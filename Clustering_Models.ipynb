{
  "nbformat": 4,
  "nbformat_minor": 0,
  "metadata": {
    "colab": {
      "name": "Clustering Models",
      "provenance": [],
      "mount_file_id": "1IUQrjdoxmwTxeJszk8YPnfSgioDN-1XM",
      "authorship_tag": "ABX9TyN1n9XNSZ+q9eWNGyi3bxWT",
      "include_colab_link": true
    },
    "kernelspec": {
      "name": "python3",
      "display_name": "Python 3"
    }
  },
  "cells": [
    {
      "cell_type": "markdown",
      "metadata": {
        "id": "view-in-github",
        "colab_type": "text"
      },
      "source": [
        "<a href=\"https://colab.research.google.com/github/Rufaidah44/Classification_Models/blob/main/Clustering_Models.ipynb\" target=\"_parent\"><img src=\"https://colab.research.google.com/assets/colab-badge.svg\" alt=\"Open In Colab\"/></a>"
      ]
    },
    {
      "cell_type": "code",
      "metadata": {
        "id": "IhYIYrK82FGk"
      },
      "source": [
        "#importing libraries\r\n",
        "import pandas as pd\r\n",
        "import numpy as np\r\n",
        "from numpy import log, dot, e\r\n",
        "import matplotlib\r\n",
        "import matplotlib.pyplot as plt\r\n",
        "import seaborn as sns\r\n",
        "import random as rd\r\n",
        "%matplotlib inline\r\n",
        "from sklearn.decomposition import PCA\r\n",
        "from sklearn.model_selection import train_test_split"
      ],
      "execution_count": 1,
      "outputs": []
    },
    {
      "cell_type": "code",
      "metadata": {
        "colab": {
          "base_uri": "https://localhost:8080/",
          "height": 202
        },
        "id": "HsIRhr1o2MMP",
        "outputId": "0ee38fba-b3f2-4915-fbe5-d060ffd3627f"
      },
      "source": [
        "df = pd.read_csv('/content/drive/My Drive/Machine Learning/GPA_Dataset2.csv')\r\n",
        "df.head()"
      ],
      "execution_count": 2,
      "outputs": [
        {
          "output_type": "execute_result",
          "data": {
            "text/html": [
              "<div>\n",
              "<style scoped>\n",
              "    .dataframe tbody tr th:only-of-type {\n",
              "        vertical-align: middle;\n",
              "    }\n",
              "\n",
              "    .dataframe tbody tr th {\n",
              "        vertical-align: top;\n",
              "    }\n",
              "\n",
              "    .dataframe thead th {\n",
              "        text-align: right;\n",
              "    }\n",
              "</style>\n",
              "<table border=\"1\" class=\"dataframe\">\n",
              "  <thead>\n",
              "    <tr style=\"text-align: right;\">\n",
              "      <th></th>\n",
              "      <th>ip1</th>\n",
              "      <th>ip2</th>\n",
              "      <th>ip3</th>\n",
              "      <th>ip4</th>\n",
              "      <th>tepat</th>\n",
              "    </tr>\n",
              "  </thead>\n",
              "  <tbody>\n",
              "    <tr>\n",
              "      <th>0</th>\n",
              "      <td>2.30</td>\n",
              "      <td>1.97</td>\n",
              "      <td>1.80</td>\n",
              "      <td>1.56</td>\n",
              "      <td>Tidak</td>\n",
              "    </tr>\n",
              "    <tr>\n",
              "      <th>1</th>\n",
              "      <td>1.81</td>\n",
              "      <td>1.68</td>\n",
              "      <td>1.57</td>\n",
              "      <td>1.86</td>\n",
              "      <td>Tidak</td>\n",
              "    </tr>\n",
              "    <tr>\n",
              "      <th>2</th>\n",
              "      <td>3.07</td>\n",
              "      <td>3.00</td>\n",
              "      <td>2.75</td>\n",
              "      <td>3.21</td>\n",
              "      <td>Tidak</td>\n",
              "    </tr>\n",
              "    <tr>\n",
              "      <th>3</th>\n",
              "      <td>2.71</td>\n",
              "      <td>2.33</td>\n",
              "      <td>2.61</td>\n",
              "      <td>1.98</td>\n",
              "      <td>Tidak</td>\n",
              "    </tr>\n",
              "    <tr>\n",
              "      <th>4</th>\n",
              "      <td>3.17</td>\n",
              "      <td>3.02</td>\n",
              "      <td>3.28</td>\n",
              "      <td>2.96</td>\n",
              "      <td>Tidak</td>\n",
              "    </tr>\n",
              "  </tbody>\n",
              "</table>\n",
              "</div>"
            ],
            "text/plain": [
              "    ip1   ip2   ip3   ip4  tepat\n",
              "0  2.30  1.97  1.80  1.56  Tidak\n",
              "1  1.81  1.68  1.57  1.86  Tidak\n",
              "2  3.07  3.00  2.75  3.21  Tidak\n",
              "3  2.71  2.33  2.61  1.98  Tidak\n",
              "4  3.17  3.02  3.28  2.96  Tidak"
            ]
          },
          "metadata": {
            "tags": []
          },
          "execution_count": 2
        }
      ]
    },
    {
      "cell_type": "code",
      "metadata": {
        "id": "gKah0T472XrY"
      },
      "source": [
        "#drop the last column\r\n",
        "#df.drop(columns=['tepat'], axis=0, inplace=True )"
      ],
      "execution_count": 3,
      "outputs": []
    },
    {
      "cell_type": "code",
      "metadata": {
        "colab": {
          "base_uri": "https://localhost:8080/",
          "height": 202
        },
        "id": "pfGM5BjI3UzQ",
        "outputId": "baea9b69-47c6-4999-929b-58f3582901d4"
      },
      "source": [
        "df.head()"
      ],
      "execution_count": 4,
      "outputs": [
        {
          "output_type": "execute_result",
          "data": {
            "text/html": [
              "<div>\n",
              "<style scoped>\n",
              "    .dataframe tbody tr th:only-of-type {\n",
              "        vertical-align: middle;\n",
              "    }\n",
              "\n",
              "    .dataframe tbody tr th {\n",
              "        vertical-align: top;\n",
              "    }\n",
              "\n",
              "    .dataframe thead th {\n",
              "        text-align: right;\n",
              "    }\n",
              "</style>\n",
              "<table border=\"1\" class=\"dataframe\">\n",
              "  <thead>\n",
              "    <tr style=\"text-align: right;\">\n",
              "      <th></th>\n",
              "      <th>ip1</th>\n",
              "      <th>ip2</th>\n",
              "      <th>ip3</th>\n",
              "      <th>ip4</th>\n",
              "      <th>tepat</th>\n",
              "    </tr>\n",
              "  </thead>\n",
              "  <tbody>\n",
              "    <tr>\n",
              "      <th>0</th>\n",
              "      <td>2.30</td>\n",
              "      <td>1.97</td>\n",
              "      <td>1.80</td>\n",
              "      <td>1.56</td>\n",
              "      <td>Tidak</td>\n",
              "    </tr>\n",
              "    <tr>\n",
              "      <th>1</th>\n",
              "      <td>1.81</td>\n",
              "      <td>1.68</td>\n",
              "      <td>1.57</td>\n",
              "      <td>1.86</td>\n",
              "      <td>Tidak</td>\n",
              "    </tr>\n",
              "    <tr>\n",
              "      <th>2</th>\n",
              "      <td>3.07</td>\n",
              "      <td>3.00</td>\n",
              "      <td>2.75</td>\n",
              "      <td>3.21</td>\n",
              "      <td>Tidak</td>\n",
              "    </tr>\n",
              "    <tr>\n",
              "      <th>3</th>\n",
              "      <td>2.71</td>\n",
              "      <td>2.33</td>\n",
              "      <td>2.61</td>\n",
              "      <td>1.98</td>\n",
              "      <td>Tidak</td>\n",
              "    </tr>\n",
              "    <tr>\n",
              "      <th>4</th>\n",
              "      <td>3.17</td>\n",
              "      <td>3.02</td>\n",
              "      <td>3.28</td>\n",
              "      <td>2.96</td>\n",
              "      <td>Tidak</td>\n",
              "    </tr>\n",
              "  </tbody>\n",
              "</table>\n",
              "</div>"
            ],
            "text/plain": [
              "    ip1   ip2   ip3   ip4  tepat\n",
              "0  2.30  1.97  1.80  1.56  Tidak\n",
              "1  1.81  1.68  1.57  1.86  Tidak\n",
              "2  3.07  3.00  2.75  3.21  Tidak\n",
              "3  2.71  2.33  2.61  1.98  Tidak\n",
              "4  3.17  3.02  3.28  2.96  Tidak"
            ]
          },
          "metadata": {
            "tags": []
          },
          "execution_count": 4
        }
      ]
    },
    {
      "cell_type": "code",
      "metadata": {
        "colab": {
          "base_uri": "https://localhost:8080/"
        },
        "id": "rcFNw3-t3cC2",
        "outputId": "4d6d65ea-94a3-4e2a-ca4f-8ecbed982683"
      },
      "source": [
        "df.rename(columns={\"ip1\":\"GPA_1\", \"ip2\":\"GPA_2\", \"ip3\":\"GPA_3\", \"ip4\":\"GPA_4\",\"tepat\": \"graduated_on_time?\"}, inplace=True)\r\n",
        "df.columns"
      ],
      "execution_count": 5,
      "outputs": [
        {
          "output_type": "execute_result",
          "data": {
            "text/plain": [
              "Index(['GPA_1', 'GPA_2', 'GPA_3', 'GPA_4', 'graduated_on_time?'], dtype='object')"
            ]
          },
          "metadata": {
            "tags": []
          },
          "execution_count": 5
        }
      ]
    },
    {
      "cell_type": "code",
      "metadata": {
        "colab": {
          "base_uri": "https://localhost:8080/",
          "height": 202
        },
        "id": "AR1EG0jz8Foi",
        "outputId": "03eaec66-066a-4df1-c816-ad97758e4b07"
      },
      "source": [
        "df.head()"
      ],
      "execution_count": 6,
      "outputs": [
        {
          "output_type": "execute_result",
          "data": {
            "text/html": [
              "<div>\n",
              "<style scoped>\n",
              "    .dataframe tbody tr th:only-of-type {\n",
              "        vertical-align: middle;\n",
              "    }\n",
              "\n",
              "    .dataframe tbody tr th {\n",
              "        vertical-align: top;\n",
              "    }\n",
              "\n",
              "    .dataframe thead th {\n",
              "        text-align: right;\n",
              "    }\n",
              "</style>\n",
              "<table border=\"1\" class=\"dataframe\">\n",
              "  <thead>\n",
              "    <tr style=\"text-align: right;\">\n",
              "      <th></th>\n",
              "      <th>GPA_1</th>\n",
              "      <th>GPA_2</th>\n",
              "      <th>GPA_3</th>\n",
              "      <th>GPA_4</th>\n",
              "      <th>graduated_on_time?</th>\n",
              "    </tr>\n",
              "  </thead>\n",
              "  <tbody>\n",
              "    <tr>\n",
              "      <th>0</th>\n",
              "      <td>2.30</td>\n",
              "      <td>1.97</td>\n",
              "      <td>1.80</td>\n",
              "      <td>1.56</td>\n",
              "      <td>Tidak</td>\n",
              "    </tr>\n",
              "    <tr>\n",
              "      <th>1</th>\n",
              "      <td>1.81</td>\n",
              "      <td>1.68</td>\n",
              "      <td>1.57</td>\n",
              "      <td>1.86</td>\n",
              "      <td>Tidak</td>\n",
              "    </tr>\n",
              "    <tr>\n",
              "      <th>2</th>\n",
              "      <td>3.07</td>\n",
              "      <td>3.00</td>\n",
              "      <td>2.75</td>\n",
              "      <td>3.21</td>\n",
              "      <td>Tidak</td>\n",
              "    </tr>\n",
              "    <tr>\n",
              "      <th>3</th>\n",
              "      <td>2.71</td>\n",
              "      <td>2.33</td>\n",
              "      <td>2.61</td>\n",
              "      <td>1.98</td>\n",
              "      <td>Tidak</td>\n",
              "    </tr>\n",
              "    <tr>\n",
              "      <th>4</th>\n",
              "      <td>3.17</td>\n",
              "      <td>3.02</td>\n",
              "      <td>3.28</td>\n",
              "      <td>2.96</td>\n",
              "      <td>Tidak</td>\n",
              "    </tr>\n",
              "  </tbody>\n",
              "</table>\n",
              "</div>"
            ],
            "text/plain": [
              "   GPA_1  GPA_2  GPA_3  GPA_4 graduated_on_time?\n",
              "0   2.30   1.97   1.80   1.56              Tidak\n",
              "1   1.81   1.68   1.57   1.86              Tidak\n",
              "2   3.07   3.00   2.75   3.21              Tidak\n",
              "3   2.71   2.33   2.61   1.98              Tidak\n",
              "4   3.17   3.02   3.28   2.96              Tidak"
            ]
          },
          "metadata": {
            "tags": []
          },
          "execution_count": 6
        }
      ]
    },
    {
      "cell_type": "code",
      "metadata": {
        "id": "5OVb9_FZw0lI"
      },
      "source": [
        "#transfer values to 0 or 1\r\n",
        "from sklearn.preprocessing import LabelEncoder\r\n",
        "# encoder last column \r\n",
        "enc= LabelEncoder()\r\n",
        "df.iloc[:,[-1]]= df.iloc[:,[-1]].apply(enc.fit_transform).astype(float)\r\n",
        "df = df.astype(float)"
      ],
      "execution_count": 7,
      "outputs": []
    },
    {
      "cell_type": "code",
      "metadata": {
        "colab": {
          "base_uri": "https://localhost:8080/",
          "height": 294
        },
        "id": "cBfLZAAD3lB3",
        "outputId": "518807e3-ff1c-41f1-943e-bfcf2cbd3093"
      },
      "source": [
        "df.describe()"
      ],
      "execution_count": 8,
      "outputs": [
        {
          "output_type": "execute_result",
          "data": {
            "text/html": [
              "<div>\n",
              "<style scoped>\n",
              "    .dataframe tbody tr th:only-of-type {\n",
              "        vertical-align: middle;\n",
              "    }\n",
              "\n",
              "    .dataframe tbody tr th {\n",
              "        vertical-align: top;\n",
              "    }\n",
              "\n",
              "    .dataframe thead th {\n",
              "        text-align: right;\n",
              "    }\n",
              "</style>\n",
              "<table border=\"1\" class=\"dataframe\">\n",
              "  <thead>\n",
              "    <tr style=\"text-align: right;\">\n",
              "      <th></th>\n",
              "      <th>GPA_1</th>\n",
              "      <th>GPA_2</th>\n",
              "      <th>GPA_3</th>\n",
              "      <th>GPA_4</th>\n",
              "      <th>graduated_on_time?</th>\n",
              "    </tr>\n",
              "  </thead>\n",
              "  <tbody>\n",
              "    <tr>\n",
              "      <th>count</th>\n",
              "      <td>401.000000</td>\n",
              "      <td>401.000000</td>\n",
              "      <td>401.000000</td>\n",
              "      <td>401.000000</td>\n",
              "      <td>401.000000</td>\n",
              "    </tr>\n",
              "    <tr>\n",
              "      <th>mean</th>\n",
              "      <td>3.056259</td>\n",
              "      <td>3.048379</td>\n",
              "      <td>3.137631</td>\n",
              "      <td>3.152768</td>\n",
              "      <td>0.670823</td>\n",
              "    </tr>\n",
              "    <tr>\n",
              "      <th>std</th>\n",
              "      <td>0.403791</td>\n",
              "      <td>0.523141</td>\n",
              "      <td>0.417795</td>\n",
              "      <td>0.476645</td>\n",
              "      <td>0.470501</td>\n",
              "    </tr>\n",
              "    <tr>\n",
              "      <th>min</th>\n",
              "      <td>0.830000</td>\n",
              "      <td>0.950000</td>\n",
              "      <td>0.550000</td>\n",
              "      <td>0.900000</td>\n",
              "      <td>0.000000</td>\n",
              "    </tr>\n",
              "    <tr>\n",
              "      <th>25%</th>\n",
              "      <td>2.880000</td>\n",
              "      <td>2.920000</td>\n",
              "      <td>3.010000</td>\n",
              "      <td>3.060000</td>\n",
              "      <td>0.000000</td>\n",
              "    </tr>\n",
              "    <tr>\n",
              "      <th>50%</th>\n",
              "      <td>3.120000</td>\n",
              "      <td>3.190000</td>\n",
              "      <td>3.220000</td>\n",
              "      <td>3.280000</td>\n",
              "      <td>1.000000</td>\n",
              "    </tr>\n",
              "    <tr>\n",
              "      <th>75%</th>\n",
              "      <td>3.320000</td>\n",
              "      <td>3.350000</td>\n",
              "      <td>3.390000</td>\n",
              "      <td>3.450000</td>\n",
              "      <td>1.000000</td>\n",
              "    </tr>\n",
              "    <tr>\n",
              "      <th>max</th>\n",
              "      <td>3.860000</td>\n",
              "      <td>3.770000</td>\n",
              "      <td>3.820000</td>\n",
              "      <td>3.800000</td>\n",
              "      <td>1.000000</td>\n",
              "    </tr>\n",
              "  </tbody>\n",
              "</table>\n",
              "</div>"
            ],
            "text/plain": [
              "            GPA_1       GPA_2       GPA_3       GPA_4  graduated_on_time?\n",
              "count  401.000000  401.000000  401.000000  401.000000          401.000000\n",
              "mean     3.056259    3.048379    3.137631    3.152768            0.670823\n",
              "std      0.403791    0.523141    0.417795    0.476645            0.470501\n",
              "min      0.830000    0.950000    0.550000    0.900000            0.000000\n",
              "25%      2.880000    2.920000    3.010000    3.060000            0.000000\n",
              "50%      3.120000    3.190000    3.220000    3.280000            1.000000\n",
              "75%      3.320000    3.350000    3.390000    3.450000            1.000000\n",
              "max      3.860000    3.770000    3.820000    3.800000            1.000000"
            ]
          },
          "metadata": {
            "tags": []
          },
          "execution_count": 8
        }
      ]
    },
    {
      "cell_type": "code",
      "metadata": {
        "colab": {
          "base_uri": "https://localhost:8080/",
          "height": 596
        },
        "id": "puXBqrsW3qd2",
        "outputId": "14d6c0a9-97cc-422b-a940-11af7b66a749"
      },
      "source": [
        "#Using Pearson Correlation\r\n",
        "plt.figure(figsize=(12,10))\r\n",
        "cor = df.iloc[:,:4].corr()\r\n",
        "sns.heatmap(cor, annot=True, cmap=plt.cm.Reds)\r\n",
        "plt.show()"
      ],
      "execution_count": 9,
      "outputs": [
        {
          "output_type": "display_data",
          "data": {
            "image/png": "[encoded data removed]",
            "text/plain": [
              "<Figure size 864x720 with 2 Axes>"
            ]
          },
          "metadata": {
            "tags": [],
            "needs_background": "light"
          }
        }
      ]
    },
    {
      "cell_type": "code",
      "metadata": {
        "colab": {
          "base_uri": "https://localhost:8080/",
          "height": 516
        },
        "id": "9jjHmDDS3yj2",
        "outputId": "8754c90a-87bf-4fe1-955c-660170e2a9d0"
      },
      "source": [
        "from pandas.plotting import scatter_matrix\r\n",
        "scatter_matrix(df.iloc[:,0:4], figsize=(5,3))"
      ],
      "execution_count": 10,
      "outputs": [
        {
          "output_type": "execute_result",
          "data": {
            "text/plain": [
              "array([[<matplotlib.axes._subplots.AxesSubplot object at 0x7f3f5f420ef0>,\n",
              "        <matplotlib.axes._subplots.AxesSubplot object at 0x7f3f5f3e6198>,\n",
              "        <matplotlib.axes._subplots.AxesSubplot object at 0x7f3f5f398400>,\n",
              "        <matplotlib.axes._subplots.AxesSubplot object at 0x7f3f5f34f668>],\n",
              "       [<matplotlib.axes._subplots.AxesSubplot object at 0x7f3f5f3018d0>,\n",
              "        <matplotlib.axes._subplots.AxesSubplot object at 0x7f3f5f3e6eb8>,\n",
              "        <matplotlib.axes._subplots.AxesSubplot object at 0x7f3f5f8ec0f0>,\n",
              "        <matplotlib.axes._subplots.AxesSubplot object at 0x7f3f621425c0>],\n",
              "       [<matplotlib.axes._subplots.AxesSubplot object at 0x7f3f62142518>,\n",
              "        <matplotlib.axes._subplots.AxesSubplot object at 0x7f3f5f2d4d30>,\n",
              "        <matplotlib.axes._subplots.AxesSubplot object at 0x7f3f5f288f98>,\n",
              "        <matplotlib.axes._subplots.AxesSubplot object at 0x7f3f5f249240>],\n",
              "       [<matplotlib.axes._subplots.AxesSubplot object at 0x7f3f5f1fc4a8>,\n",
              "        <matplotlib.axes._subplots.AxesSubplot object at 0x7f3f5f22f710>,\n",
              "        <matplotlib.axes._subplots.AxesSubplot object at 0x7f3f5f1e5978>,\n",
              "        <matplotlib.axes._subplots.AxesSubplot object at 0x7f3f5f199be0>]],\n",
              "      dtype=object)"
            ]
          },
          "metadata": {
            "tags": []
          },
          "execution_count": 10
        },
        {
          "output_type": "display_data",
          "data": {
            "image/png": "[encoded data removed]",
            "text/plain": [
              "<Figure size 360x216 with 16 Axes>"
            ]
          },
          "metadata": {
            "tags": [],
            "needs_background": "light"
          }
        }
      ]
    },
    {
      "cell_type": "code",
      "metadata": {
        "id": "bagUhiXsyHtX"
      },
      "source": [
        "#choose features without label\r\n",
        "X = df.iloc[:,:4].values\r\n",
        "y = df.iloc[:,-1].values\r\n",
        "\r\n",
        "\r\n",
        "#Project data to lower dimension using PCA\r\n",
        "pca = PCA(n_components=2)\r\n",
        "pca.fit(X)\r\n",
        "X = pca.transform(X)\r\n",
        "\r\n",
        "#create a dataframe combining the low dimension data and to be used for visualization\r\n",
        "low_dim_data = {\r\n",
        "        'X1': X[:,0],\r\n",
        "        'X2': X[:,1],\r\n",
        "        'label': y}\r\n",
        "low_dim_df = pd.DataFrame(low_dim_data, columns = ['X1', 'X2', 'label'])\r\n"
      ],
      "execution_count": 11,
      "outputs": []
    },
    {
      "cell_type": "code",
      "metadata": {
        "id": "4Xa-i6J7ISoo",
        "colab": {
          "base_uri": "https://localhost:8080/"
        },
        "outputId": "2e7675a0-cecb-4ca2-f8c4-c94500a2b293"
      },
      "source": [
        "X"
      ],
      "execution_count": 12,
      "outputs": [
        {
          "output_type": "execute_result",
          "data": {
            "text/plain": [
              "array([[ 2.37846038e+00,  6.09079198e-01],\n",
              "       [ 2.71385512e+00,  2.14089927e-01],\n",
              "       [ 1.69938921e-01,  6.05805898e-02],\n",
              "       [ 1.40860161e+00,  3.84713241e-01],\n",
              "       [ 1.07379427e-03,  7.71680208e-02],\n",
              "       [-1.83726055e-01,  3.85609026e-01],\n",
              "       [ 6.46910394e-01, -2.55905405e-01],\n",
              "       [ 1.75583889e-01,  4.19459441e-01],\n",
              "       [ 9.81160282e-01,  2.56585616e-01],\n",
              "       [ 1.63020462e-01, -2.87837953e-01],\n",
              "       [ 1.02162500e+00, -1.21866134e+00],\n",
              "       [ 9.62223717e-01,  2.72803186e-01],\n",
              "       [-5.12150475e-01, -1.28351152e-01],\n",
              "       [ 8.52762106e-02, -2.90024798e-01],\n",
              "       [-2.19322393e-01,  1.85006593e-01],\n",
              "       [ 1.29659961e+00,  8.69270712e-01],\n",
              "       [ 2.87345655e-01, -1.80858685e-03],\n",
              "       [ 2.55000242e-01,  3.54938906e-01],\n",
              "       [ 4.08789656e-01, -1.24984218e-01],\n",
              "       [ 3.72648377e-01, -1.80311865e-01],\n",
              "       [-2.34432979e-02, -1.03625319e-01],\n",
              "       [ 2.24298713e-01, -1.54067178e-01],\n",
              "       [ 1.37708994e-01,  1.55210322e-01],\n",
              "       [ 2.73375735e-02, -4.36010410e-02],\n",
              "       [-1.44310224e-01, -5.72396928e-02],\n",
              "       [ 4.82500200e-01,  4.41226462e-01],\n",
              "       [ 3.64528282e-01,  1.51133401e-01],\n",
              "       [-1.88867008e-01,  1.53380320e-01],\n",
              "       [-4.17990056e-02,  1.04177191e-02],\n",
              "       [ 4.46135196e-01,  9.04490005e-02],\n",
              "       [ 2.22008775e-01,  3.54585761e-03],\n",
              "       [-5.83550106e-02, -1.43494228e-02],\n",
              "       [ 2.53339119e-01,  1.30096712e-01],\n",
              "       [ 7.80795977e-03, -7.23278417e-02],\n",
              "       [-8.89132027e-02, -1.19049139e-01],\n",
              "       [-8.35238769e-01, -4.36470448e-02],\n",
              "       [ 1.26131284e-01,  5.21856305e-02],\n",
              "       [-2.94278259e-01, -1.32890095e-03],\n",
              "       [-3.91493350e-01,  1.36510385e-01],\n",
              "       [ 5.49797824e-01, -1.02349518e-01],\n",
              "       [-2.16188147e-02,  4.77444845e-01],\n",
              "       [ 7.72579613e-01, -4.53785959e-02],\n",
              "       [-8.27266200e-02,  4.38587584e-01],\n",
              "       [-7.98098623e-02,  3.39595194e-01],\n",
              "       [ 9.39132502e-02,  1.18482404e-01],\n",
              "       [-3.77104488e-01, -3.18465948e-02],\n",
              "       [-1.84481347e-01, -4.46892750e-02],\n",
              "       [ 1.60483715e+00, -7.20307442e-01],\n",
              "       [ 2.29341754e+00, -3.37726052e-03],\n",
              "       [ 2.23055918e+00,  8.55851334e-01],\n",
              "       [ 1.58257752e-01, -7.67151262e-02],\n",
              "       [-5.85463867e-01,  8.51236869e-02],\n",
              "       [ 2.28921345e+00,  1.64339114e+00],\n",
              "       [ 2.35884390e+00,  1.02903228e+00],\n",
              "       [ 7.29376557e-01,  4.40410948e-01],\n",
              "       [ 6.62616725e-01,  1.09738745e+00],\n",
              "       [-2.15746177e-01, -2.58873590e-01],\n",
              "       [ 2.48846252e+00, -3.06258726e-01],\n",
              "       [-3.71599786e-01, -1.30730327e-01],\n",
              "       [ 5.79869877e-01,  1.10977607e+00],\n",
              "       [ 1.88075318e+00,  8.10248207e-01],\n",
              "       [ 9.82869111e-01, -1.81794493e-01],\n",
              "       [ 1.77015021e+00, -4.98893180e-01],\n",
              "       [ 1.19085505e-01, -3.09419612e-02],\n",
              "       [-3.07542724e-01, -2.99392167e-01],\n",
              "       [ 1.17192275e+00,  3.83549354e-01],\n",
              "       [-1.62978434e-01, -9.24991883e-04],\n",
              "       [ 7.50594501e-01,  3.24894025e-01],\n",
              "       [ 7.45112702e-01,  4.69428192e-01],\n",
              "       [ 3.57389047e-01, -2.23535897e-02],\n",
              "       [ 3.95941870e-01, -1.75555197e-01],\n",
              "       [ 4.26347542e-01, -2.27120133e-02],\n",
              "       [ 6.86930037e-01, -6.54225930e-03],\n",
              "       [ 1.96767194e+00, -2.17658853e-01],\n",
              "       [-2.96800120e-01,  1.24348836e-01],\n",
              "       [ 8.45146663e-02, -3.08182393e-01],\n",
              "       [ 1.71949467e+00, -8.83576482e-01],\n",
              "       [ 2.09909500e-02,  4.64769842e-02],\n",
              "       [ 2.04437425e-01, -1.58976274e-01],\n",
              "       [-4.24686864e-01, -1.02528886e-01],\n",
              "       [ 7.19217873e-01, -5.49155963e-01],\n",
              "       [ 2.88726704e-01, -5.46983792e-01],\n",
              "       [-2.85910579e-01,  9.09788559e-02],\n",
              "       [-2.87235284e-02,  5.55084160e-02],\n",
              "       [-3.52605773e-01,  1.88742516e-01],\n",
              "       [ 1.54979657e+00, -5.72630517e-01],\n",
              "       [ 2.07398413e-01,  2.18267367e-01],\n",
              "       [-8.02592307e-01,  4.89108161e-02],\n",
              "       [-5.49393865e-01, -3.28246524e-02],\n",
              "       [ 3.29881823e-01, -3.15703242e-02],\n",
              "       [ 1.35968131e+00, -1.26700278e+00],\n",
              "       [ 1.13817394e+00, -1.28895369e+00],\n",
              "       [ 8.07238502e-01, -1.27286469e+00],\n",
              "       [ 8.25807054e-01, -1.36091837e+00],\n",
              "       [ 1.48317563e+00, -1.45164599e+00],\n",
              "       [ 9.19192722e-01, -6.72791791e-02],\n",
              "       [ 1.28689476e+00,  2.18272082e-01],\n",
              "       [-9.93113024e-02,  2.06765224e-01],\n",
              "       [ 8.11174074e-01, -2.42433445e-01],\n",
              "       [-7.49322324e-01, -4.55046748e-02],\n",
              "       [-7.48272075e-01,  2.32204702e-01],\n",
              "       [-5.72801790e-02,  5.20230187e-01],\n",
              "       [-2.48145832e-01, -5.80115857e-02],\n",
              "       [-2.33503000e-01,  3.91645255e-01],\n",
              "       [-7.05997433e-01,  2.46332642e-01],\n",
              "       [ 5.34313121e-01, -4.13015386e-01],\n",
              "       [ 1.31029362e+00, -8.16210390e-01],\n",
              "       [ 1.24688717e+00, -6.72519724e-01],\n",
              "       [ 1.35049336e+00, -5.69619919e-01],\n",
              "       [-1.55134772e-01,  1.96014011e-01],\n",
              "       [-4.85765610e-01,  7.48075276e-03],\n",
              "       [-2.78990822e-01,  2.62213371e-01],\n",
              "       [-1.27292695e-01,  2.50593736e-01],\n",
              "       [ 4.43790107e-01, -7.44935796e-01],\n",
              "       [ 1.65132417e-01,  6.32229489e-01],\n",
              "       [-2.93853899e-01, -1.37699128e-01],\n",
              "       [ 1.47314214e-03,  4.33044594e-03],\n",
              "       [-1.58181638e-01, -6.75156093e-02],\n",
              "       [ 1.23771731e-02, -1.08012661e-02],\n",
              "       [ 3.13336592e-01,  4.48332192e-02],\n",
              "       [ 2.78716695e-01,  2.05293701e-01],\n",
              "       [ 2.47708608e-02,  1.19081459e-01],\n",
              "       [ 4.37078526e-01,  2.94189580e-01],\n",
              "       [ 1.31413456e-02,  4.19460524e-01],\n",
              "       [-6.33371351e-02,  9.67823973e-02],\n",
              "       [-4.22988809e-01,  1.41071927e-01],\n",
              "       [ 3.06714735e-01,  2.63969909e-01],\n",
              "       [ 1.02214441e+00, -1.06546505e+00],\n",
              "       [ 2.25282245e+00,  3.35032604e-02],\n",
              "       [-2.46853511e-01,  1.09818866e-01],\n",
              "       [-5.29041030e-01,  3.18793157e-02],\n",
              "       [ 2.77630513e-01,  2.57506782e-01],\n",
              "       [ 1.20911017e-01,  8.02513576e-02],\n",
              "       [ 1.76520289e-01,  1.21326466e-01],\n",
              "       [ 3.60517268e-01,  3.97302226e-01],\n",
              "       [ 5.66237562e-01,  4.82067412e-01],\n",
              "       [ 3.99771537e-01, -6.70447372e-02],\n",
              "       [-3.66418054e-01,  1.97133940e-01],\n",
              "       [ 7.09368574e-01,  7.92846781e-01],\n",
              "       [ 6.40923217e-01,  8.20052784e-01],\n",
              "       [ 4.32340047e-01,  7.39311783e-01],\n",
              "       [ 3.65157487e-01,  7.67277157e-01],\n",
              "       [ 1.13233990e+00,  1.35674722e+00],\n",
              "       [ 8.96363493e-01,  1.14671083e+00],\n",
              "       [ 1.58746618e+00,  1.84542557e+00],\n",
              "       [ 2.03896780e+00,  1.13614101e+00],\n",
              "       [ 5.39274772e-01,  8.90874834e-01],\n",
              "       [-5.34852329e-02,  7.41667475e-01],\n",
              "       [-5.93948755e-02,  3.22091292e-01],\n",
              "       [ 7.68889313e-01,  1.07959028e+00],\n",
              "       [-4.65929679e-01, -1.95271196e-02],\n",
              "       [-3.26135821e-01, -1.75254513e-01],\n",
              "       [-1.32785737e-01, -7.95333855e-02],\n",
              "       [-6.07772978e-01, -6.60874207e-01],\n",
              "       [-5.83628240e-01, -7.11969471e-01],\n",
              "       [-8.20748228e-01, -2.28882049e-01],\n",
              "       [-2.33265844e-01, -1.91272555e-02],\n",
              "       [-4.31328315e-01, -5.53389985e-02],\n",
              "       [ 1.45222447e+00,  6.78000005e-02],\n",
              "       [-2.12735275e-01, -3.09544805e-02],\n",
              "       [-1.20966524e-01, -2.54154614e-01],\n",
              "       [-2.28536572e-01, -4.89720723e-02],\n",
              "       [-3.00484988e-01, -3.42336066e-01],\n",
              "       [ 1.39701262e-01, -3.47382446e-01],\n",
              "       [-3.69259630e-01, -2.07307294e-01],\n",
              "       [-4.33924230e-01, -1.01828092e-01],\n",
              "       [ 1.49485609e-01, -3.12845363e-02],\n",
              "       [ 1.50094316e+00, -1.00187239e+00],\n",
              "       [ 1.05532068e+00, -8.06382442e-01],\n",
              "       [ 1.00123072e+00, -1.20436714e+00],\n",
              "       [ 1.15533828e+00, -1.24275418e+00],\n",
              "       [ 9.66738463e-01, -3.95190068e-01],\n",
              "       [ 4.94040098e-01, -2.00995580e-01],\n",
              "       [ 8.48052852e-02, -2.65537387e-01],\n",
              "       [ 1.52501638e-01, -1.34237249e-02],\n",
              "       [ 8.16091189e-01, -4.26277702e-04],\n",
              "       [ 9.70448648e-02, -2.85845293e-01],\n",
              "       [ 2.77413177e-02, -3.36832313e-01],\n",
              "       [-4.88667050e-01, -4.25963222e-01],\n",
              "       [-2.18569396e-01, -3.84996622e-01],\n",
              "       [-7.29607044e-01,  1.06709306e-01],\n",
              "       [-2.94617801e-01,  1.25671182e-01],\n",
              "       [ 1.20568967e+00, -1.30981942e+00],\n",
              "       [-1.17851751e-02, -7.22847325e-02],\n",
              "       [-1.04174180e+00, -4.33326812e-02],\n",
              "       [-1.50526828e-01,  9.33428160e-03],\n",
              "       [-3.14411478e-01,  6.91030640e-02],\n",
              "       [ 2.83504593e-01, -4.72328583e-01],\n",
              "       [ 2.23359457e-01, -4.13807553e-01],\n",
              "       [ 1.05723641e-01, -8.12620818e-02],\n",
              "       [-1.37841046e-01,  2.65046118e-03],\n",
              "       [-6.41752238e-01,  4.22669884e-02],\n",
              "       [ 6.79556432e-01,  4.11964079e-01],\n",
              "       [ 1.15669878e+00, -1.02212367e-01],\n",
              "       [ 9.43679806e-01,  5.92567332e-01],\n",
              "       [-7.81711183e-01,  3.39353325e-01],\n",
              "       [-1.17387312e+00,  2.57575315e-02],\n",
              "       [ 2.47859469e-01, -3.70402471e-01],\n",
              "       [ 2.78209626e-01,  2.41850985e-01],\n",
              "       [-4.86159714e-01,  3.21257459e-01],\n",
              "       [ 2.64995834e-01, -1.84954867e-01],\n",
              "       [ 2.57546479e-01,  5.23565239e-01],\n",
              "       [-5.84706971e-01,  1.40733375e-01],\n",
              "       [-1.00680893e+00,  2.27425778e-01],\n",
              "       [ 8.77763486e-01, -1.55272442e-01],\n",
              "       [-3.57893084e-01,  8.09478380e-02],\n",
              "       [-2.76402060e-01,  2.12091346e-01],\n",
              "       [-1.74465967e-01,  7.72997687e-02],\n",
              "       [-5.30525119e-01,  4.00506371e-02],\n",
              "       [-3.62174203e-01,  2.46117030e-01],\n",
              "       [-6.60365887e-01, -8.81949346e-02],\n",
              "       [-2.56374308e-01,  5.65006955e-02],\n",
              "       [-5.56959964e-02,  1.50816198e-01],\n",
              "       [-5.72912270e-02,  1.53292587e-01],\n",
              "       [-6.52043129e-01,  2.11434880e-01],\n",
              "       [-4.91746052e-01,  7.08268450e-02],\n",
              "       [-3.04750992e-01,  8.40563035e-02],\n",
              "       [-5.53634231e-01, -2.10131632e-01],\n",
              "       [-1.41915571e-01, -2.22854752e-01],\n",
              "       [-3.49900777e-01,  4.22422021e-02],\n",
              "       [-8.19825862e-01,  7.37725210e-02],\n",
              "       [-9.56740504e-01,  1.24545752e-01],\n",
              "       [-6.44418171e-02, -1.89627418e-01],\n",
              "       [-1.11546085e+00, -7.59454979e-02],\n",
              "       [-7.64959422e-01, -2.99860925e-02],\n",
              "       [-6.50766763e-01,  3.97946670e-02],\n",
              "       [-6.31542649e-01,  1.19678318e-01],\n",
              "       [-1.39089926e-01,  2.80227549e-01],\n",
              "       [-9.42972163e-01,  6.10892838e-02],\n",
              "       [-3.10243546e-01, -9.03165040e-02],\n",
              "       [-7.67125058e-01, -3.67887968e-02],\n",
              "       [-4.94609375e-01, -2.15814264e-01],\n",
              "       [-4.10467191e-01,  3.85197161e-02],\n",
              "       [-4.66287584e-01, -9.82664758e-02],\n",
              "       [-9.51565231e-01,  7.31800944e-02],\n",
              "       [-9.53638491e-01, -2.03956968e-01],\n",
              "       [-7.04639872e-01,  6.07627179e-02],\n",
              "       [-6.33281387e-01,  4.82363818e-02],\n",
              "       [-5.04530668e-01, -3.13849007e-02],\n",
              "       [-3.95514035e-01, -3.39919257e-03],\n",
              "       [-3.58777084e-01, -2.47248684e-01],\n",
              "       [-3.35025670e-01, -2.82099269e-01],\n",
              "       [-1.75808140e-01, -3.94231105e-01],\n",
              "       [-3.21088029e-01, -1.31385125e-01],\n",
              "       [-4.01016580e-01, -2.21188291e-01],\n",
              "       [-4.09066350e-01, -2.72637858e-01],\n",
              "       [-3.02260820e-01, -1.74727342e-01],\n",
              "       [-4.12260600e-01, -3.69721790e-01],\n",
              "       [-2.34728151e-01, -1.91088276e-01],\n",
              "       [-2.38393663e-01, -3.07738986e-02],\n",
              "       [ 1.75027290e-01,  1.64940612e-01],\n",
              "       [-3.33303499e-01,  2.45820455e-01],\n",
              "       [-8.12672403e-01,  3.28091384e-01],\n",
              "       [-3.17107314e-01,  4.08755018e-01],\n",
              "       [-4.19096539e-01, -7.02030575e-02],\n",
              "       [-2.34539513e-01,  3.90134365e-02],\n",
              "       [-1.77707326e-01,  1.38677757e-01],\n",
              "       [-1.19431083e-01, -1.00664616e-01],\n",
              "       [-8.16019055e-01, -9.86561181e-02],\n",
              "       [-5.78064838e-01, -4.39177920e-02],\n",
              "       [-5.67529548e-01,  2.14065408e-01],\n",
              "       [-9.52392587e-01, -1.60283403e-01],\n",
              "       [-1.27793532e-01,  1.93124286e-01],\n",
              "       [-3.91082020e-01,  3.75713052e-01],\n",
              "       [-6.58136730e-01, -1.10162140e-01],\n",
              "       [-3.53263055e-01, -5.55036337e-02],\n",
              "       [-3.63182505e-01,  8.23362474e-02],\n",
              "       [-4.58090191e-01,  1.14836534e-01],\n",
              "       [-7.69849341e-01,  1.41199412e-01],\n",
              "       [-6.48492381e-01,  4.08660033e-02],\n",
              "       [-7.47584741e-01,  2.63425984e-01],\n",
              "       [-8.47675088e-01,  2.77868100e-01],\n",
              "       [-1.01683466e+00,  2.84684796e-01],\n",
              "       [-5.18228895e-01,  1.14475757e-01],\n",
              "       [-4.57146123e-01,  7.93155371e-02],\n",
              "       [ 6.65441647e-01, -4.95339775e-01],\n",
              "       [-1.22763208e-01, -2.16219645e-01],\n",
              "       [-3.02230565e-01,  2.67913796e-03],\n",
              "       [ 6.83824075e-02, -7.43105908e-02],\n",
              "       [ 1.05204898e+00, -4.33979667e-01],\n",
              "       [ 2.35284363e+00, -1.09220240e+00],\n",
              "       [ 3.88872222e-02, -1.41701455e-01],\n",
              "       [ 1.05182119e+00, -3.41007400e-01],\n",
              "       [-6.40432964e-01,  4.02822413e-02],\n",
              "       [ 6.31182852e-02, -1.58454453e-02],\n",
              "       [-2.55463904e-01, -2.70998949e-01],\n",
              "       [-2.01156699e-01, -1.39997355e-01],\n",
              "       [-7.42408746e-01, -6.03119335e-02],\n",
              "       [-9.48271770e-01, -8.86622870e-02],\n",
              "       [-4.49492364e-01, -2.39934644e-01],\n",
              "       [ 3.69903383e-01, -4.26979140e-01],\n",
              "       [ 1.72409299e+00, -1.52245965e-01],\n",
              "       [ 9.21876377e-01,  3.29596907e-01],\n",
              "       [ 1.61838699e+00,  7.09583132e-01],\n",
              "       [ 2.50071290e-01, -2.39181492e-01],\n",
              "       [-2.82055660e-02, -3.58062903e-01],\n",
              "       [ 1.17455476e-01, -4.01069471e-01],\n",
              "       [ 2.63914674e-01, -6.44977130e-02],\n",
              "       [-3.80371793e-01, -3.53355563e-01],\n",
              "       [-3.50422094e-01, -4.40144119e-01],\n",
              "       [-5.61908271e-01, -2.86686276e-01],\n",
              "       [-2.10010928e-01, -3.06681220e-01],\n",
              "       [-2.81764536e-01, -1.09452808e-02],\n",
              "       [ 4.07127987e-02, -1.28246667e-01],\n",
              "       [-2.15842482e-01,  2.04405787e-01],\n",
              "       [-2.10514940e-01, -7.80449428e-02],\n",
              "       [-2.69338135e-01, -1.45254728e-01],\n",
              "       [ 7.74284993e-01, -4.63419892e-01],\n",
              "       [-2.82088018e-01,  2.22875956e-01],\n",
              "       [-5.14090577e-01,  1.76038692e-01],\n",
              "       [-7.85483979e-01,  7.04057632e-02],\n",
              "       [-2.70033766e-01,  2.47109253e-01],\n",
              "       [-8.16565191e-01,  4.19018370e-01],\n",
              "       [ 6.68346199e-01,  9.33827894e-01],\n",
              "       [ 3.12011620e-02,  1.15868024e-02],\n",
              "       [-2.88999265e-01,  3.46848046e-01],\n",
              "       [-7.75952616e-01,  2.62328456e-01],\n",
              "       [ 5.84855037e-01,  1.00752025e+00],\n",
              "       [-2.59776107e-01,  2.21785534e-01],\n",
              "       [ 5.67015439e-02,  4.19693576e-01],\n",
              "       [-7.29888811e-01,  5.37812435e-02],\n",
              "       [-1.58493837e-01,  1.05116654e-01],\n",
              "       [-5.25590624e-01,  3.94897923e-01],\n",
              "       [-6.10007628e-01, -2.06184349e-01],\n",
              "       [-2.19722038e-01, -4.50951953e-02],\n",
              "       [-3.26400975e-01, -6.33456397e-02],\n",
              "       [-2.52779390e-01, -1.36116657e-02],\n",
              "       [-6.75745076e-01, -1.93704360e-01],\n",
              "       [-1.90970078e-01, -1.04979292e-02],\n",
              "       [-7.37305781e-01, -1.70363155e-01],\n",
              "       [-8.39382346e-01, -1.00613902e-01],\n",
              "       [-4.36849251e-01, -8.81747997e-02],\n",
              "       [-1.90686260e-01, -4.15931857e-02],\n",
              "       [-4.38541164e-02,  4.90326958e-02],\n",
              "       [-2.43839427e-01, -2.09465146e-02],\n",
              "       [-5.20450903e-01, -1.22232341e-01],\n",
              "       [-7.61719088e-01, -4.93524211e-02],\n",
              "       [ 1.74394013e-01, -3.18562819e-01],\n",
              "       [-7.91923614e-01, -4.01495995e-02],\n",
              "       [ 1.86140921e-01, -1.96583189e-01],\n",
              "       [-1.70011456e-01, -3.24453108e-01],\n",
              "       [-2.74058857e-01,  4.48857139e-02],\n",
              "       [-4.40019333e-01,  1.46479175e-01],\n",
              "       [-4.19933328e-01,  4.67158642e-01],\n",
              "       [-6.79266801e-01,  2.33716495e-01],\n",
              "       [-7.04228299e-01,  2.00199330e-01],\n",
              "       [-8.15851132e-01,  1.34655297e-01],\n",
              "       [-5.35622720e-01, -8.71437311e-02],\n",
              "       [-3.95157877e-01,  3.89724083e-01],\n",
              "       [-4.43749014e-01,  9.75324278e-03],\n",
              "       [-1.32031099e-01,  9.75334591e-02],\n",
              "       [-4.27342374e-01,  1.14672098e-01],\n",
              "       [-6.66251733e-01,  1.19209905e-01],\n",
              "       [-1.01699192e+00,  2.99071556e-02],\n",
              "       [-5.80815618e-01,  9.41069604e-02],\n",
              "       [-5.44817925e-01, -8.25269426e-02],\n",
              "       [-2.55719530e-01,  1.66683634e-01],\n",
              "       [-3.07639748e-01,  8.39428410e-03],\n",
              "       [-2.06473990e-01,  1.95854824e-01],\n",
              "       [-9.40640680e-02, -2.36650912e-01],\n",
              "       [-8.15589495e-01, -2.14462655e-01],\n",
              "       [-9.15728386e-01,  2.74195264e-03],\n",
              "       [-5.34730747e-01, -9.47790980e-02],\n",
              "       [-9.76726650e-01, -1.29249808e-01],\n",
              "       [-3.33224427e-02,  2.29877565e-01],\n",
              "       [-4.05776752e-01,  6.16655305e-02],\n",
              "       [-8.13671239e-01, -2.40981626e-01],\n",
              "       [-1.35995975e-01, -5.28164831e-02],\n",
              "       [ 8.22676365e-02,  1.90861096e-02],\n",
              "       [-8.85412102e-01, -4.04886848e-02],\n",
              "       [-7.21155811e-01, -9.64405521e-02],\n",
              "       [-3.20924584e-01, -1.91009660e-01],\n",
              "       [-2.95992594e-01, -1.69159504e-01],\n",
              "       [-1.26185109e+00, -2.00455812e-02],\n",
              "       [-7.87890662e-01,  1.31470325e-01],\n",
              "       [ 4.78518381e-01, -2.14945247e-01],\n",
              "       [-5.18166127e-01, -7.45486207e-03],\n",
              "       [ 4.52374288e-02,  3.08630350e-01],\n",
              "       [-3.23180299e-01,  2.44019043e-01],\n",
              "       [-6.01171524e-01,  8.28592081e-02],\n",
              "       [-9.74035632e-01, -1.01061627e-01],\n",
              "       [-2.09892025e-02, -9.27912008e-02],\n",
              "       [-6.07180956e-01,  2.54886292e-01],\n",
              "       [-4.02832925e-01, -2.11808733e-01],\n",
              "       [-8.48180812e-01, -7.02483885e-02],\n",
              "       [-3.01619714e-01, -8.73604939e-02],\n",
              "       [-2.55713751e-01, -1.45429630e-01],\n",
              "       [-1.89191205e-03, -9.23062328e-02],\n",
              "       [-1.57989682e-01, -6.32149298e-02],\n",
              "       [-3.58135977e-01, -1.59881836e-01],\n",
              "       [ 1.05185061e-01, -2.25491091e-01],\n",
              "       [-9.23178114e-01, -1.77585715e-01],\n",
              "       [-6.74043702e-01, -1.75904580e-01],\n",
              "       [-2.72405579e-01, -2.72691189e-01],\n",
              "       [-1.26464383e-01, -2.16441600e-01],\n",
              "       [-4.64061232e-01, -1.29371071e-01],\n",
              "       [-3.16081094e-01, -3.41194523e-01],\n",
              "       [-5.56032199e-01, -2.46580724e-01],\n",
              "       [-5.51553620e-01, -1.56524946e-01],\n",
              "       [-6.83938607e-01, -7.41486712e-02],\n",
              "       [-7.33728212e-02, -2.42858554e-02]])"
            ]
          },
          "metadata": {
            "tags": []
          },
          "execution_count": 12
        }
      ]
    },
    {
      "cell_type": "code",
      "metadata": {
        "id": "qQJkRilyR9mG",
        "colab": {
          "base_uri": "https://localhost:8080/",
          "height": 295
        },
        "outputId": "79cc2d5a-51e1-4e99-b9df-36fec5070726"
      },
      "source": [
        "#plot the data after reduction\r\n",
        "plt.scatter(X[:,0],X[:,1],c='black',label='unclustered data')\r\n",
        "plt.xlabel('GPA g1')\r\n",
        "plt.ylabel('GPA g2')\r\n",
        "plt.legend()\r\n",
        "plt.title('Plot of data points')\r\n",
        "plt.show()"
      ],
      "execution_count": 13,
      "outputs": [
        {
          "output_type": "display_data",
          "data": {
            "image/png": "[encoded data removed]",
            "text/plain": [
              "<Figure size 432x288 with 1 Axes>"
            ]
          },
          "metadata": {
            "tags": [],
            "needs_background": "light"
          }
        }
      ]
    },
    {
      "cell_type": "code",
      "metadata": {
        "id": "BYJ5-kiFNINI"
      },
      "source": [
        "#devide the data to m and n \r\n",
        "m=X.shape[0] #number of training examples\r\n",
        "n=X.shape[1] #number of features. Here n=2\r\n",
        "\r\n",
        "#no of iterations \r\n",
        "n_iter=100\r\n",
        "\r\n",
        "#choose no of k \r\n",
        "K=4\r\n",
        "\r\n",
        "#Initialize the centroids randomly\r\n",
        "Centroids=np.array([]).reshape(n,0) \r\n",
        "for i in range(K):\r\n",
        "    rand=rd.randint(0,m-1)\r\n",
        "    Centroids=np.c_[Centroids,X[rand]]\r\n",
        "\r\n",
        "\r\n",
        "Output={}"
      ],
      "execution_count": 14,
      "outputs": []
    },
    {
      "cell_type": "code",
      "metadata": {
        "id": "P4rJncXDOo7V"
      },
      "source": [
        "\r\n",
        "for i in range(n_iter):\r\n",
        "     #step 2.a\r\n",
        "     #Calculate euclidian distance from the centroid and \r\n",
        "     #assign the cluster based on the minimal distance\r\n",
        "      EuclidianDistance=np.array([]).reshape(m,0)\r\n",
        "      for k in range(K):\r\n",
        "          tempDist=np.sum((X-Centroids[:,k])**2,axis=1)\r\n",
        "          EuclidianDistance=np.c_[EuclidianDistance,tempDist]\r\n",
        "      C=np.argmin(EuclidianDistance,axis=1)+1\r\n",
        "     #step 2.b\r\n",
        "     #regroup the data points based on the cluster index\r\n",
        "      Y={}\r\n",
        "      for k in range(K):\r\n",
        "          Y[k+1]=np.array([]).reshape(2,0)\r\n",
        "      for i in range(m):\r\n",
        "          Y[C[i]]=np.c_[Y[C[i]],X[i]]\r\n",
        "     \r\n",
        "      for k in range(K):\r\n",
        "          Y[k+1]=Y[k+1].T\r\n",
        "    \r\n",
        "      for k in range(K):\r\n",
        "          Centroids[:,k]=np.mean(Y[k+1],axis=0)\r\n",
        "      Output=Y"
      ],
      "execution_count": 15,
      "outputs": []
    },
    {
      "cell_type": "code",
      "metadata": {
        "id": "1cT7MdXHOzEW",
        "colab": {
          "base_uri": "https://localhost:8080/",
          "height": 283
        },
        "outputId": "3724fcad-6b23-4b2d-de46-38b2fbbf712b"
      },
      "source": [
        "color=['#666ccc', '#2add11','#9a9a9a','#bb2aa3','#3789aa','#1c3f44','orange']\r\n",
        "labels=['cluster1','cluster2','cluster3','cluster4','cluster5','cluster6', 'cluster7']\r\n",
        "for k in range(K):\r\n",
        "    plt.scatter(Output[k+1][:,0],Output[k+1][:,1],c=color[k],label=labels[k])\r\n",
        "plt.scatter(Centroids[0,:],Centroids[1,:],s=100,c='red',label='Centroids', marker='X')\r\n",
        "plt.xlabel('GPA g1')\r\n",
        "plt.ylabel('GPA g2')\r\n",
        "plt.legend()\r\n",
        "plt.show()"
      ],
      "execution_count": 16,
      "outputs": [
        {
          "output_type": "display_data",
          "data": {
            "image/png": "[encoded data removed]",
            "text/plain": [
              "<Figure size 432x288 with 1 Axes>"
            ]
          },
          "metadata": {
            "tags": [],
            "needs_background": "light"
          }
        }
      ]
    },
    {
      "cell_type": "code",
      "metadata": {
        "id": "L08ijP9DQMbV"
      },
      "source": [
        "\r\n",
        "            "
      ],
      "execution_count": 16,
      "outputs": []
    },
    {
      "cell_type": "code",
      "metadata": {
        "id": "m_0wG7tFl2G9"
      },
      "source": [
        "from scipy.stats import multivariate_normal\r\n",
        "import scipy.stats as stats\r\n",
        "import matplotlib.pyplot as plt\r\n",
        "import numpy as np\r\n",
        "import pandas as pd\r\n",
        "from sklearn import decomposition\r\n",
        "\r\n",
        "%matplotlib inline"
      ],
      "execution_count": 17,
      "outputs": []
    },
    {
      "cell_type": "code",
      "metadata": {
        "id": "R9A7MBdCxQ2W",
        "colab": {
          "base_uri": "https://localhost:8080/",
          "height": 390
        },
        "outputId": "46c63e9c-bcce-45ad-c7fc-fbcd0c0ca92b"
      },
      "source": [
        "# Create Figure\r\n",
        "fig, (axs) = plt.subplots(1,1, figsize = (6,6))\r\n",
        "\r\n",
        "# Plot each group in each dataset as unique olor\r\n",
        "for ax, low_dim_df in zip([axs], [low_dim_df]):\r\n",
        "    ax.set_title('Original CPA')\r\n",
        "    for cat, col in zip(low_dim_df['label'].unique(), ['#190BF5', '#0B5A07']):\r\n",
        "        ax.scatter(low_dim_df[low_dim_df.label == cat].X1, low_dim_df[low_dim_df.label == cat].X2, c = col, label = cat, alpha = .45)\r\n",
        "    ax.legend()"
      ],
      "execution_count": 18,
      "outputs": [
        {
          "output_type": "display_data",
          "data": {
            "image/png": "[encoded data removed]",
            "text/plain": [
              "<Figure size 432x432 with 1 Axes>"
            ]
          },
          "metadata": {
            "tags": [],
            "needs_background": "light"
          }
        }
      ]
    },
    {
      "cell_type": "code",
      "metadata": {
        "id": "4TRMJlBO6eEO"
      },
      "source": [
        "# Implement K-means ++ to initialize centers\r\n",
        "def pick_cluster_centers(points, num_clusters = 4):\r\n",
        "    # Create List to store clusters\r\n",
        "    clusters = []\r\n",
        "    # Save list of cluster indicies\r\n",
        "    arr_idx = np.arange(len(points))\r\n",
        "    # Choose first cluster; append to list\r\n",
        "    clusters.append( (points[np.random.choice(arr_idx)],1.0 / num_clusters,np.identity(points.shape[1], dtype=np.float64)))\r\n",
        "    # Define function to calculate squared distance\r\n",
        "    def dist_sq(x): return np.linalg.norm(x)**2\r\n",
        "    c_dist = None\r\n",
        "    # Add Clusters until reaching \"num_clusters\"\r\n",
        "    while len(clusters) < num_clusters:\r\n",
        "        # Calculate distance between latest cluster and rest of points\r\n",
        "        new_dist = np.apply_along_axis(dist_sq, 1, points - clusters[-1][0]).reshape(-1,1)\r\n",
        "        \r\n",
        "        # Add to distance array - First check to see if distance matrix exists\r\n",
        "        if type(c_dist) == type(None):\r\n",
        "            c_dist = new_dist\r\n",
        "        else:\r\n",
        "            c_dist = np.concatenate([c_dist, new_dist], axis = 1)\r\n",
        "            \r\n",
        "        # Calculate probability by finding shortest distance, then normalizing\r\n",
        "        c_prob = np.apply_along_axis(np.min, 1, c_dist)\r\n",
        "        c_prob = c_prob / c_prob.sum()\r\n",
        "        # Draw new cluster according to probability\r\n",
        "        clusters.append((points[np.random.choice(arr_idx, p = c_prob)],1.0 / num_clusters,np.identity(points.shape[1], dtype=np.float64)))\r\n",
        "    return np.array(clusters)"
      ],
      "execution_count": 19,
      "outputs": []
    },
    {
      "cell_type": "code",
      "metadata": {
        "id": "ElgTm4z16qT9"
      },
      "source": [
        "def assign_clusters_GMM(points, clusters):\r\n",
        "    \r\n",
        "    # Create function that creates a function which will\r\n",
        "    # calculate the pdf given a mu and sigma, then multiply by pi\r\n",
        "    def pdf_calc_func(mu, pi, Sigma):\r\n",
        "        return lambda x: pi*stats.multivariate_normal(mu, Sigma).pdf(x)\r\n",
        "    # Create list for saving weights\r\n",
        "    clust_weights = []\r\n",
        "    # For each cluster\r\n",
        "    for c in clusters:\r\n",
        "        # Create the custom pdf function\r\n",
        "        \r\n",
        "        pdf = pdf_calc_func(*c)\r\n",
        "        # Apply to all the points\r\n",
        "        clust_weights.append(np.apply_along_axis(pdf, 1, points).reshape(-1,1))\r\n",
        "    # Combine all points\r\n",
        "    clust_weights = np.concatenate(clust_weights, axis = 1)\r\n",
        "    # Define normalizatino function and normalize\r\n",
        "    def norm_clust_weights(x):\r\n",
        "        return [n/np.sum(x) for n in x]\r\n",
        "    cluster_assignments = np.apply_along_axis(norm_clust_weights, 1, clust_weights)\r\n",
        "    \r\n",
        "    return cluster_assignments,clust_weights"
      ],
      "execution_count": 20,
      "outputs": []
    },
    {
      "cell_type": "code",
      "metadata": {
        "id": "mAsx7ICH6uAw"
      },
      "source": [
        "def update_clusters_GMM(points, cluster_weights):\r\n",
        "    \r\n",
        "    # Create list for clusters\r\n",
        "    new_clusts = []\r\n",
        "    # For each cluster\r\n",
        "    for c in cluster_weights.T:\r\n",
        "        n_k = np.sum(c) # Calculate n\r\n",
        "        pi_k = n_k / len(points) # calculate pi\r\n",
        "        # Calculate mu\r\n",
        "        mu_k = np.apply_along_axis(np.sum,0,points * c.reshape(-1,1)) / n_k\r\n",
        "        # Initialize Sigma\r\n",
        "        Sigma_k = 0\r\n",
        "        # For every weight and point\r\n",
        "        for cw, p in zip(c, points):\r\n",
        "            diff = p - mu_k # Find Difference\r\n",
        "            # Dot Product times weight\r\n",
        "            Sigma_k += cw * np.matmul(diff.reshape(-1,1), diff.reshape(1,-1))\r\n",
        "        # Normalize Sigma\r\n",
        "        Sigma_k = Sigma_k / n_k\r\n",
        "        # Create cluster tuple, and add to list\r\n",
        "        new_c = (mu_k, pi_k, Sigma_k)\r\n",
        "        new_clusts.append(new_c)\r\n",
        "    return new_clusts"
      ],
      "execution_count": 21,
      "outputs": []
    },
    {
      "cell_type": "code",
      "metadata": {
        "id": "mGfK-iSo6wWH"
      },
      "source": [
        "def get_log_likelihood(likelihood):\r\n",
        "    \r\n",
        "    log_likelihoods = np.sum(likelihood)\r\n",
        "    return np.log(log_likelihoods)"
      ],
      "execution_count": 22,
      "outputs": []
    },
    {
      "cell_type": "code",
      "metadata": {
        "id": "QI5E88cv60Sc"
      },
      "source": [
        "# Create function that will create clustering functions\r\n",
        "def create_cluster_func(assign_func, update_func, threshold_func, assign_args = {}):\r\n",
        "    \r\n",
        "    def cluster(points, centroids, max_iter = 100, stop_threshold = .0001):\r\n",
        "        cluster_means_diffs = []\r\n",
        "        log_likelihoods = []\r\n",
        "        history = []\r\n",
        "        cluster_assign_history = []\r\n",
        "        for i in range(max_iter):\r\n",
        "            old_centroids = centroids\r\n",
        "            \r\n",
        "            cluster_weights,likelihood = assign_func(points, centroids, **assign_args)\r\n",
        "            \r\n",
        "            log_likelihood = get_log_likelihood(likelihood)\r\n",
        "            log_likelihoods.append(log_likelihood)\r\n",
        "            centroids = update_func(points, cluster_weights)\r\n",
        "            \r\n",
        "            clusters_snapshot = []\r\n",
        "        \r\n",
        "            # This is just for our later use in the graphs\r\n",
        "            for cluster in centroids:\r\n",
        "                \r\n",
        "                clusters_snapshot.append({\r\n",
        "                    'mu_k': cluster[0],\r\n",
        "                    'cov_k': cluster[2]\r\n",
        "                })\r\n",
        "\r\n",
        "            history.append(clusters_snapshot)\r\n",
        "            cluster_assign_history.append(cluster_weights)\r\n",
        "            \r\n",
        "            status,metric = threshold_func(centroids, old_centroids, stop_threshold)\r\n",
        "            cluster_means_diffs.append(metric)\r\n",
        "            print('Iteration',i + 1,'Likelihood: ', log_likelihood)\r\n",
        "            \r\n",
        "            if status:\r\n",
        "                break\r\n",
        "        \r\n",
        "        return (centroids,cluster_weights,cluster_means_diffs,log_likelihoods,history,cluster_assign_history)\r\n",
        "    return cluster\r\n",
        "\r\n",
        "# Create functions that test for convergence\r\n",
        "def basic_threshold_test(centroids, old_centroids, stop_threshold):\r\n",
        "    \r\n",
        "    for n, o in zip(centroids, old_centroids):\r\n",
        "        #print(n,o)\r\n",
        "        metric = np.linalg.norm(n-o)\r\n",
        "        if metric > stop_threshold:\r\n",
        "            return (False,metric)\r\n",
        "    return (True,metric)\r\n",
        "\r\n",
        "# Create functions that test for convergence\r\n",
        "def GMM_threshold_test(centroids, old_centroids, stop_threshold):\r\n",
        "    for np, op in zip(centroids, old_centroids):\r\n",
        "        status,metric = basic_threshold_test(np,op,stop_threshold)\r\n",
        "        if not status:\r\n",
        "            return (status,metric)\r\n",
        "    return (status,metric)"
      ],
      "execution_count": 23,
      "outputs": []
    },
    {
      "cell_type": "code",
      "metadata": {
        "id": "iSuNezM263F3"
      },
      "source": [
        "### Creating actual functions for clustering\r\n",
        "cluster_GMM = create_cluster_func(assign_clusters_GMM,\r\n",
        "                                      update_clusters_GMM,\r\n",
        "                                      GMM_threshold_test)"
      ],
      "execution_count": 24,
      "outputs": []
    },
    {
      "cell_type": "code",
      "metadata": {
        "id": "SmlLH7Lz65uh"
      },
      "source": [
        "def train(df,clusters = 4,max_iter = 100):\r\n",
        "    # Pull out point data\r\n",
        "        points = df.iloc[:,:4].values\r\n",
        "        \r\n",
        "        # Pick random initial centers\r\n",
        "        init_cents = pick_cluster_centers(points, clusters)\r\n",
        "        \r\n",
        "        \r\n",
        "        # Calculate centers from custom function\r\n",
        "        cents,cluster_assignments,cluster_means_diffs,log_likelihoods,history,cluster_assign_history = cluster_GMM(points ,init_cents,max_iter)\r\n",
        "        \r\n",
        "        return (cents,cluster_assignments,cluster_means_diffs,log_likelihoods,history,cluster_assign_history)"
      ],
      "execution_count": 25,
      "outputs": []
    },
    {
      "cell_type": "code",
      "metadata": {
        "id": "dYPIUK-269D2",
        "colab": {
          "base_uri": "https://localhost:8080/"
        },
        "outputId": "27d67d51-7439-4355-8bb0-e9a0ba18e07e"
      },
      "source": [
        "%%time\r\n",
        "cents,cluster_assignments,cluster_means_diffs,log_likelihoods,history,cluster_assign_history = train(df,4, 50)"
      ],
      "execution_count": 26,
      "outputs": [
        {
          "output_type": "stream",
          "text": [
            "/usr/local/lib/python3.6/dist-packages/ipykernel_launcher.py:28: VisibleDeprecationWarning: Creating an ndarray from ragged nested sequences (which is a list-or-tuple of lists-or-tuples-or ndarrays with different lengths or shapes) is deprecated. If you meant to do this, you must specify 'dtype=object' when creating the ndarray\n"
          ],
          "name": "stderr"
        },
        {
          "output_type": "stream",
          "text": [
            "Iteration 1 Likelihood:  1.4930678659789092\n",
            "Iteration 2 Likelihood:  5.68178084879846\n",
            "Iteration 3 Likelihood:  6.377775866933777\n",
            "Iteration 4 Likelihood:  6.589900978737521\n",
            "Iteration 5 Likelihood:  6.659616606705949\n",
            "Iteration 6 Likelihood:  6.700292027918729\n",
            "Iteration 7 Likelihood:  6.727791591453088\n",
            "Iteration 8 Likelihood:  6.744770427664424\n",
            "Iteration 9 Likelihood:  6.754188676549834\n",
            "Iteration 10 Likelihood:  6.7590735528546935\n",
            "Iteration 11 Likelihood:  6.761588424450988\n",
            "Iteration 12 Likelihood:  6.762994476766388\n",
            "Iteration 13 Likelihood:  6.763879767922255\n",
            "Iteration 14 Likelihood:  6.764515207732096\n",
            "Iteration 15 Likelihood:  6.7650426523593685\n",
            "Iteration 16 Likelihood:  6.765529035610866\n",
            "Iteration 17 Likelihood:  6.765997209212492\n",
            "Iteration 18 Likelihood:  6.766451983876636\n",
            "Iteration 19 Likelihood:  6.766892164988005\n",
            "Iteration 20 Likelihood:  6.767314578638305\n",
            "Iteration 21 Likelihood:  6.767715620196357\n",
            "Iteration 22 Likelihood:  6.768092029018962\n",
            "Iteration 23 Likelihood:  6.768441279434536\n",
            "Iteration 24 Likelihood:  6.768761734268803\n",
            "Iteration 25 Likelihood:  6.769052657773086\n",
            "Iteration 26 Likelihood:  6.76931415252935\n",
            "Iteration 27 Likelihood:  6.769547057615111\n",
            "Iteration 28 Likelihood:  6.769752825623198\n",
            "Iteration 29 Likelihood:  6.769933384130395\n",
            "Iteration 30 Likelihood:  6.770090982407366\n",
            "Iteration 31 Likelihood:  6.770228025864796\n",
            "Iteration 32 Likelihood:  6.77034690696678\n",
            "Iteration 33 Likelihood:  6.770449848361655\n",
            "Iteration 34 Likelihood:  6.7705387773774515\n",
            "Iteration 35 Likelihood:  6.770615248042148\n",
            "Iteration 36 Likelihood:  6.770680417982814\n",
            "Iteration 37 Likelihood:  6.770735076378778\n",
            "Iteration 38 Likelihood:  6.770779709752567\n",
            "Iteration 39 Likelihood:  6.770814587551602\n",
            "Iteration 40 Likelihood:  6.770839849770845\n",
            "Iteration 41 Likelihood:  6.7708555830448995\n",
            "Iteration 42 Likelihood:  6.7708618775795\n",
            "Iteration 43 Likelihood:  6.770858862971861\n",
            "Iteration 44 Likelihood:  6.770846725097148\n",
            "Iteration 45 Likelihood:  6.770825708425331\n",
            "Iteration 46 Likelihood:  6.770796108665562\n",
            "Iteration 47 Likelihood:  6.770758260100976\n",
            "Iteration 48 Likelihood:  6.770712520954573\n",
            "Iteration 49 Likelihood:  6.770659259032731\n",
            "Iteration 50 Likelihood:  6.770598838954237\n",
            "CPU times: user 21.6 s, sys: 1.22 s, total: 22.9 s\n",
            "Wall time: 21.2 s\n"
          ],
          "name": "stdout"
        }
      ]
    },
    {
      "cell_type": "code",
      "metadata": {
        "id": "aBOGBG7X7FPy"
      },
      "source": [
        "# Visualization function for GMM\r\n",
        "from sklearn.mixture import GaussianMixture\r\n",
        "from matplotlib.colors import to_hex, to_rgb\r\n",
        "\r\n",
        "def plot_GMM(df,low_dim_df,cents,cluster_assignments,clusters = 4):\r\n",
        "    \r\n",
        "    \r\n",
        "    # Create figure\r\n",
        "    fig, (axs) = plt.subplots(1,2, figsize = (12,6))\r\n",
        "    \r\n",
        "    # Go thorugh all data sets \r\n",
        "    for ax, df in zip([axs], [df]):\r\n",
        "        \r\n",
        "        #Section 1\r\n",
        "        # Pull out point data\r\n",
        "        points = df.iloc[:,:4].values\r\n",
        "        \r\n",
        "        \r\n",
        "        #Calculate centers from sklearn\r\n",
        "        GMM = GaussianMixture(clusters, n_init=1,covariance_type='diag').fit(points)\r\n",
        "        cluster_assignments_sk = GMM.predict_proba(points)\r\n",
        "        \r\n",
        "        \r\n",
        "        \r\n",
        "        #section 2\r\n",
        "        \r\n",
        "        #Calculate centers of the low dimension data projection\r\n",
        "        low_dim_cents_custom = update_clusters_GMM(low_dim_df.iloc[:,:2].values, cluster_assignments)\r\n",
        "        \r\n",
        "        \r\n",
        "        def to_cluster_format(index):\r\n",
        "            zeros_clust = np.array([0,0,0,0])\r\n",
        "            zeros_clust[index:index+1] = 1\r\n",
        "            \r\n",
        "            return zeros_clust\r\n",
        "            \r\n",
        "        low_dim_cents_sk = update_clusters_GMM(low_dim_df.iloc[:,:2].values, cluster_assignments_sk)\r\n",
        "        \r\n",
        "        \r\n",
        "        #calculate the actual centers of our GMM clustering with sklearn\r\n",
        "        cent_sk = GMM.means_\r\n",
        "        \r\n",
        "        #assign colors according to probabilities\r\n",
        "        def find_hex(p, colors):\r\n",
        "            p = p.reshape(-1,1)\r\n",
        "            return to_hex(np.sum(p*colors, axis=0))\r\n",
        "        \r\n",
        "        colors = ['#190BF5', '#0B5A07', '#DA8DB9','orange']#[:clusters]\r\n",
        "        colors = [np.array(to_rgb(c)) for c in colors]\r\n",
        "        colors = np.array(colors)\r\n",
        "        \r\n",
        "        plot_colors = [find_hex(p,colors) for p in cluster_assignments]\r\n",
        "        \r\n",
        "        \r\n",
        "        # Plot each distribution in different color\r\n",
        "        axs[0].set_title('Original CPA')\r\n",
        "        for cat, col in zip(low_dim_df['label'].unique(), ['#190BF5', '#0B5A07', '#DA8DB9',\"orange\"]):\r\n",
        "                axs[0].scatter(low_dim_df[low_dim_df.label == cat].X1, low_dim_df[low_dim_df.label == cat].X2, \r\n",
        "                           label = None, c = col, alpha = .45)\r\n",
        "\r\n",
        "        axs[1].set_title('Cluster Labeled CPA')\r\n",
        "        axs[1].scatter(low_dim_df.X1, low_dim_df.X2, label = None, c = plot_colors, alpha = .45)\r\n",
        "        # Plot Calculated centers\r\n",
        "        \r\n",
        "        only_low_dim_cents_custom = np.array([ mu for mu,pi,sigma in low_dim_cents_custom])\r\n",
        "        only_low_dim_cents_sk = np.array([ mu for (mu,pi,sigma) in low_dim_cents_sk])\r\n",
        "        \r\n",
        "        axs[1].scatter(only_low_dim_cents_custom[:,0], only_low_dim_cents_custom[:,1], c = 'k', marker = 'x', label = 'Custom', s = 70)\r\n",
        "        axs[1].scatter(only_low_dim_cents_sk[:,0], only_low_dim_cents_sk[:,1], c = 'r', marker = '+', label = 'sklearn', s = 70)\r\n",
        "        \r\n",
        "        # Add legend\r\n",
        "        axs[1].legend()"
      ],
      "execution_count": 27,
      "outputs": []
    },
    {
      "cell_type": "code",
      "metadata": {
        "id": "XIXquhA17HxQ",
        "colab": {
          "base_uri": "https://localhost:8080/",
          "height": 425
        },
        "outputId": "cb390cc0-0211-423f-ba7f-b13c61c4e722"
      },
      "source": [
        "%%time\r\n",
        "plot_GMM(df,low_dim_df,cents,cluster_assignments,4)"
      ],
      "execution_count": 28,
      "outputs": [
        {
          "output_type": "stream",
          "text": [
            "CPU times: user 113 ms, sys: 5.13 ms, total: 118 ms\n",
            "Wall time: 120 ms\n"
          ],
          "name": "stdout"
        },
        {
          "output_type": "display_data",
          "data": {
            "image/png": "[encoded data removed]",
            "text/plain": [
              "<Figure size 864x432 with 2 Axes>"
            ]
          },
          "metadata": {
            "tags": [],
            "needs_background": "light"
          }
        }
      ]
    }
  ]
}